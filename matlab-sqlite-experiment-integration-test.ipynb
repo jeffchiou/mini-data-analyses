{
 "cells": [
  {
   "cell_type": "code",
   "execution_count": 73,
   "metadata": {},
   "outputs": [],
   "source": [
    "import scipy as sp\n",
    "import scipy.io as sio\n",
    "import numpy as np\n",
    "import os\n",
    "import sqlite3\n",
    "\n",
    "data_path = r'C:\\data\\experiment_db_data'\n",
    "data_list = os.listdir(data_path)"
   ]
  },
  {
   "cell_type": "code",
   "execution_count": 74,
   "metadata": {},
   "outputs": [],
   "source": [
    "sqlite_file = 'experiments.sqlite'\n",
    "table_name1 = 'overview'\n",
    "new_column1 = 'date'\n",
    "new_column2 = 'decoder_type'\n",
    "column_type1 = 'TEXT'\n",
    "column_type2 = 'TEXT'\n",
    "\n",
    "conn = sqlite3.connect(os.path.join(data_path, sqlite_file))\n",
    "c = conn.cursor()\n",
    "\n",
    "c.execute('CREATE TABLE {tn} ({nc} {ct})'.format(tn=table_name1, nc=new_column1, ct=column_type1))\n",
    "c.execute(\"ALTER TABLE {tn} ADD COLUMN '{nc}' {ct}\".format(tn=table_name1, nc=new_column2, ct=column_type2))\n",
    "\n",
    "conn.commit()\n",
    "conn.close()"
   ]
  },
  {
   "cell_type": "code",
   "execution_count": 61,
   "metadata": {},
   "outputs": [
    {
     "name": "stdout",
     "output_type": "stream",
     "text": [
      "20140602\n"
     ]
    }
   ],
   "source": [
    "# Find kalmanInitParams .mat files\n",
    "kalman_files = [name for name in data_list if name[-4:]=='.mat' and name[0:6]=='kalman']\n",
    "print('First file found:', kalman_files[0])\n",
    "kalman_files_with_path = [os.path.join(data_path, name) for name in kalman_files]\n",
    "current_info = sio.loadmat(kalman_files_with_path[0])['kalmanInitParams'][0,0]\n",
    "print(current_info['date'][0,0])"
   ]
  },
  {
   "cell_type": "code",
   "execution_count": 63,
   "metadata": {},
   "outputs": [
    {
     "name": "stdout",
     "output_type": "stream",
     "text": [
      "0\n"
     ]
    }
   ],
   "source": [
    "print(current_info['includeEye'][0,0])"
   ]
  },
  {
   "cell_type": "code",
   "execution_count": null,
   "metadata": {
    "collapsed": true
   },
   "outputs": [],
   "source": []
  }
 ],
 "metadata": {
  "hide_input": false,
  "kernelspec": {
   "display_name": "Python 3",
   "language": "python",
   "name": "python3"
  },
  "language_info": {
   "codemirror_mode": {
    "name": "ipython",
    "version": 3
   },
   "file_extension": ".py",
   "mimetype": "text/x-python",
   "name": "python",
   "nbconvert_exporter": "python",
   "pygments_lexer": "ipython3",
   "version": "3.7.3"
  },
  "toc": {
   "base_numbering": 1,
   "nav_menu": {},
   "number_sections": true,
   "sideBar": true,
   "skip_h1_title": false,
   "title_cell": "Table of Contents",
   "title_sidebar": "Contents",
   "toc_cell": false,
   "toc_position": {},
   "toc_section_display": true,
   "toc_window_display": false
  },
  "varInspector": {
   "cols": {
    "lenName": 16,
    "lenType": 16,
    "lenVar": 40
   },
   "kernels_config": {
    "python": {
     "delete_cmd_postfix": "",
     "delete_cmd_prefix": "del ",
     "library": "var_list.py",
     "varRefreshCmd": "print(var_dic_list())"
    },
    "r": {
     "delete_cmd_postfix": ") ",
     "delete_cmd_prefix": "rm(",
     "library": "var_list.r",
     "varRefreshCmd": "cat(var_dic_list()) "
    }
   },
   "types_to_exclude": [
    "module",
    "function",
    "builtin_function_or_method",
    "instance",
    "_Feature"
   ],
   "window_display": false
  }
 },
 "nbformat": 4,
 "nbformat_minor": 1
}
