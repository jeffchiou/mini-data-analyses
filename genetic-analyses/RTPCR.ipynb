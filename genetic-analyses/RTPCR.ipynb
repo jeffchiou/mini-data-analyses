{
 "cells": [
  {
   "cell_type": "code",
   "execution_count": 8,
   "metadata": {
    "ExecuteTime": {
     "end_time": "2019-08-23T21:44:53.283624Z",
     "start_time": "2019-08-23T21:44:53.279232Z"
    }
   },
   "outputs": [],
   "source": [
    "import numpy as np\n",
    "import pandas as pd\n",
    "from scipy import stats\n",
    "import matplotlib.pyplot as plt\n",
    "import seaborn as sns\n",
    "from collections import namedtuple\n",
    "from statsmodels.stats.libqsturng import psturng\n",
    "\n",
    "%matplotlib notebook"
   ]
  },
  {
   "cell_type": "code",
   "execution_count": 9,
   "metadata": {
    "ExecuteTime": {
     "end_time": "2019-08-23T21:44:53.307621Z",
     "start_time": "2019-08-23T21:44:53.284623Z"
    }
   },
   "outputs": [
    {
     "data": {
      "text/html": [
       "<div>\n",
       "<style scoped>\n",
       "    .dataframe tbody tr th:only-of-type {\n",
       "        vertical-align: middle;\n",
       "    }\n",
       "\n",
       "    .dataframe tbody tr th {\n",
       "        vertical-align: top;\n",
       "    }\n",
       "\n",
       "    .dataframe thead th {\n",
       "        text-align: right;\n",
       "    }\n",
       "</style>\n",
       "<table border=\"1\" class=\"dataframe\">\n",
       "  <thead>\n",
       "    <tr style=\"text-align: right;\">\n",
       "      <th></th>\n",
       "      <th>day</th>\n",
       "      <th>mean</th>\n",
       "      <th>sd</th>\n",
       "    </tr>\n",
       "  </thead>\n",
       "  <tbody>\n",
       "    <tr>\n",
       "      <td>count</td>\n",
       "      <td>96.000000</td>\n",
       "      <td>96.000000</td>\n",
       "      <td>96.000000</td>\n",
       "    </tr>\n",
       "    <tr>\n",
       "      <td>mean</td>\n",
       "      <td>2.750000</td>\n",
       "      <td>1.392121</td>\n",
       "      <td>0.550040</td>\n",
       "    </tr>\n",
       "    <tr>\n",
       "      <td>std</td>\n",
       "      <td>2.695025</td>\n",
       "      <td>3.550555</td>\n",
       "      <td>1.995821</td>\n",
       "    </tr>\n",
       "    <tr>\n",
       "      <td>min</td>\n",
       "      <td>0.000000</td>\n",
       "      <td>0.000000</td>\n",
       "      <td>0.000000</td>\n",
       "    </tr>\n",
       "    <tr>\n",
       "      <td>25%</td>\n",
       "      <td>0.750000</td>\n",
       "      <td>0.000000</td>\n",
       "      <td>0.000000</td>\n",
       "    </tr>\n",
       "    <tr>\n",
       "      <td>50%</td>\n",
       "      <td>2.000000</td>\n",
       "      <td>0.443600</td>\n",
       "      <td>0.055385</td>\n",
       "    </tr>\n",
       "    <tr>\n",
       "      <td>75%</td>\n",
       "      <td>4.000000</td>\n",
       "      <td>1.112440</td>\n",
       "      <td>0.292637</td>\n",
       "    </tr>\n",
       "    <tr>\n",
       "      <td>max</td>\n",
       "      <td>7.000000</td>\n",
       "      <td>29.241570</td>\n",
       "      <td>15.811180</td>\n",
       "    </tr>\n",
       "  </tbody>\n",
       "</table>\n",
       "</div>"
      ],
      "text/plain": [
       "             day       mean         sd\n",
       "count  96.000000  96.000000  96.000000\n",
       "mean    2.750000   1.392121   0.550040\n",
       "std     2.695025   3.550555   1.995821\n",
       "min     0.000000   0.000000   0.000000\n",
       "25%     0.750000   0.000000   0.000000\n",
       "50%     2.000000   0.443600   0.055385\n",
       "75%     4.000000   1.112440   0.292637\n",
       "max     7.000000  29.241570  15.811180"
      ]
     },
     "execution_count": 9,
     "metadata": {},
     "output_type": "execute_result"
    }
   ],
   "source": [
    "pcr = pd.read_csv('rtpcr_master.csv')\n",
    "pcr = pcr.rename(\n",
    "    columns={\n",
    "        'Target': 'targ',\n",
    "        'Sample': 'sample',\n",
    "        'Spheroid Day': 'day',\n",
    "        'Expression Mean': 'mean',\n",
    "        'Expression SD': 'sd'\n",
    "    })\n",
    "pcr.describe()"
   ]
  },
  {
   "cell_type": "markdown",
   "metadata": {},
   "source": [
    "# Manual ANOVA Calculation\n",
    "* 3 data points per row, 5 rows per day. n = 15 datapoints, df=14\n",
    "    * Since each row has the same number of data points, we can calculate the grand mean from the group means.\n",
    "* m = 5 groups, df=4\n",
    "* n-m=10 error df\n",
    "* SS between = sum of squares between group means and grand means\n",
    "    * SS error sum of squares betweeen \n"
   ]
  },
  {
   "cell_type": "code",
   "execution_count": 10,
   "metadata": {
    "ExecuteTime": {
     "end_time": "2019-08-23T21:44:53.330621Z",
     "start_time": "2019-08-23T21:44:53.324621Z"
    }
   },
   "outputs": [],
   "source": [
    "def manual_anova(means, sds, n):\n",
    "    '''\n",
    "    Performs a manual ANOVA from summary stats. n is the samples per mean.\n",
    "    n must be the same for each group. \n",
    "    Can be modified later to support different n per group\n",
    "    '''\n",
    "\n",
    "    k = len(means)  # number of groups\n",
    "    N = n * k\n",
    "    grand_mean = np.mean(means)\n",
    "\n",
    "    dfb = k - 1\n",
    "    dfw = N - k\n",
    "    dft = N - 1\n",
    "\n",
    "    ssb = np.sum(n * (means - grand_mean)**2)\n",
    "    ssw = np.sum((n - 1) * (sds**2))\n",
    "    sst = ssb + ssw\n",
    "\n",
    "    msb = ssb / dfb\n",
    "    msw = ssw / dfw\n",
    "\n",
    "    f = msb / msw\n",
    "    p = 1 - stats.f.cdf(f, dfb, dfw)\n",
    "\n",
    "    Stats = namedtuple(\n",
    "        'Stats',\n",
    "        'means, sds, n, k, N, grand_mean, dfb, dfw, dft, ssb, ssw, sst, msb, msw, f, p'\n",
    "    )\n",
    "    return Stats(means, sds, n, k, N, grand_mean, dfb, dfw, dft, ssb, ssw, sst,\n",
    "                 msb, msw, f, p)"
   ]
  },
  {
   "cell_type": "code",
   "execution_count": 11,
   "metadata": {
    "ExecuteTime": {
     "end_time": "2019-08-23T21:44:53.341621Z",
     "start_time": "2019-08-23T21:44:53.331621Z"
    }
   },
   "outputs": [],
   "source": [
    "def manual_tukey(S, p_cutoff=0.05):\n",
    "    '''\n",
    "    Calculates Tukey's HSD. S is a namedtuple created by manual_anova()\n",
    "    '''\n",
    "    p, hsd, sig  = (np.zeros([S.k, S.k]) for _ in range(3))\n",
    "    sig[:] = False\n",
    "    hsd[:] = np.nan    \n",
    "    p[:] = np.nan\n",
    "    psig = np.array(p, dtype=str)\n",
    "    psig[:] = 'NaN'\n",
    "\n",
    "    means = S.means.to_numpy()\n",
    "    sig_list = []\n",
    "\n",
    "    denom = np.sqrt(S.msw / S.n)\n",
    "\n",
    "    for i in range(0, S.k - 1):\n",
    "        for j in range(i + 1, S.k):\n",
    "\n",
    "            mi = means[i]\n",
    "            mj = means[j]\n",
    "\n",
    "            hsd[i][j] = np.abs(mi - mj) / denom\n",
    "            p[i][j] = psturng(hsd[i][j], S.k, S.dfw)\n",
    "            psig[i][j] = f'{p[i][j]:n}'\n",
    "\n",
    "            if p[i][j] < p_cutoff:\n",
    "                sig[i][j] = True\n",
    "                sig_list.append((i, j))\n",
    "                psig[j][i] = 'Sig'\n",
    "            else:\n",
    "                psig[j][i] = 'Not Sig'\n",
    "    \n",
    "\n",
    "    Stats = namedtuple('Stats', 'p, hsd, sig, sig_list, psig')\n",
    "    return Stats(p, hsd, sig, sig_list, psig)"
   ]
  },
  {
   "cell_type": "code",
   "execution_count": 12,
   "metadata": {
    "ExecuteTime": {
     "end_time": "2019-08-23T21:44:53.351619Z",
     "start_time": "2019-08-23T21:44:53.342622Z"
    }
   },
   "outputs": [],
   "source": [
    "def print_tukey(arr, names, title='Tukey', min_lim= 8, max_lim=16):\n",
    "    '''\n",
    "    Pretty prints the results of manual_tukey()\n",
    "    arr is an array of shape (len(names),len(names))\n",
    "    min_lim and max_lim is the range of column sizes you want to allow\n",
    "    '''\n",
    "    names = [s[:max_lim] for s in names]\n",
    "    lengths = [len(s) for s in names]\n",
    "    max_len = max(lengths)\n",
    "    print(f\"{title:^{max_len}}\", end='')\n",
    "    [print(f' {names[i]}', end='') for i in range(len(names))]\n",
    "    print('')\n",
    "\n",
    "    for i in range(len(names)):\n",
    "        print(f'{names[i]:>{max_len}}', end='')\n",
    "\n",
    "        for j in range(len(names)):\n",
    "            print(f' {arr[i][j]:>{lengths[j]}}', end='')\n",
    "\n",
    "        print('')    "
   ]
  },
  {
   "cell_type": "code",
   "execution_count": 13,
   "metadata": {
    "ExecuteTime": {
     "end_time": "2019-08-23T21:44:53.893619Z",
     "start_time": "2019-08-23T21:44:53.352620Z"
    },
    "scrolled": true
   },
   "outputs": [],
   "source": [
    "targets = np.unique(pcr['targ'])\n",
    "n = 3\n",
    "anovas, tukeys, samples = {}, {}, {}\n",
    "\n",
    "for t in targets:\n",
    "    \n",
    "    tdf = pcr[pcr['targ'] == t]\n",
    "    days = np.unique(tdf['day'])\n",
    "    \n",
    "    for d in days:\n",
    "        \n",
    "        day_df = tdf[tdf['day'] == d]\n",
    "        means = day_df['mean']\n",
    "        sds = day_df['sd']\n",
    "        t_d = f'{t}_{d}'\n",
    "        \n",
    "        anovas[t_d] = manual_anova(means, sds, n)\n",
    "        tukeys[t_d] = manual_tukey(anovas[t_d])\n",
    "        samples[t_d] = day_df['sample']"
   ]
  },
  {
   "cell_type": "code",
   "execution_count": 16,
   "metadata": {
    "ExecuteTime": {
     "end_time": "2019-08-23T21:47:27.703033Z",
     "start_time": "2019-08-23T21:47:27.689033Z"
    }
   },
   "outputs": [],
   "source": [
    "from contextlib import redirect_stdout\n",
    "\n",
    "with open('anova_results.txt', 'w') as f:\n",
    "    with redirect_stdout(f):\n",
    "        for k, v in anovas.items():\n",
    "            if anovas[k].p < 0.05:\n",
    "                print(f'{k} Overall | Significant | p: {anovas[k].p:n} | F: {anovas[k].f:n}')\n",
    "            else:\n",
    "                print(f'{k} Overall | Not Significant | p: {anovas[k].p:n} | F: {anovas[k].f:n}')\n",
    "            samp_names = samples[k].to_numpy()\n",
    "            print_tukey(tukeys[k].psig, samp_names, k)\n",
    "            print('')"
   ]
  },
  {
   "cell_type": "code",
   "execution_count": 15,
   "metadata": {
    "ExecuteTime": {
     "end_time": "2019-08-23T21:44:53.969145Z",
     "start_time": "2019-08-23T21:44:53.908148Z"
    }
   },
   "outputs": [
    {
     "name": "stdout",
     "output_type": "stream",
     "text": [
      "       Samples       | 3:1 HCC:HSC Sorafenib | 3:1 HCC:HSC Media | HCC Sorafenib | HCC Media | HSC Sorafenib | HSC Media \n",
      "3:1 HCC:HSC Sorafenib"
     ]
    },
    {
     "ename": "NameError",
     "evalue": "name 'p' is not defined",
     "output_type": "error",
     "traceback": [
      "\u001b[1;31m---------------------------------------------------------------------------\u001b[0m",
      "\u001b[1;31mNameError\u001b[0m                                 Traceback (most recent call last)",
      "\u001b[1;32m<ipython-input-15-f43979d30815>\u001b[0m in \u001b[0;36m<module>\u001b[1;34m\u001b[0m\n\u001b[0;32m     18\u001b[0m \u001b[1;33m\u001b[0m\u001b[0m\n\u001b[0;32m     19\u001b[0m     \u001b[1;32mfor\u001b[0m \u001b[0mj\u001b[0m \u001b[1;32min\u001b[0m \u001b[0mrange\u001b[0m\u001b[1;33m(\u001b[0m\u001b[0mcols\u001b[0m\u001b[1;33m)\u001b[0m\u001b[1;33m:\u001b[0m\u001b[1;33m\u001b[0m\u001b[1;33m\u001b[0m\u001b[0m\n\u001b[1;32m---> 20\u001b[1;33m         \u001b[0mprint\u001b[0m\u001b[1;33m(\u001b[0m\u001b[1;34mf'| {p[i][j]:>{lengths[j]}n} '\u001b[0m\u001b[1;33m,\u001b[0m \u001b[0mend\u001b[0m\u001b[1;33m=\u001b[0m\u001b[1;34m''\u001b[0m\u001b[1;33m)\u001b[0m\u001b[1;33m\u001b[0m\u001b[1;33m\u001b[0m\u001b[0m\n\u001b[0m\u001b[0;32m     21\u001b[0m \u001b[1;33m\u001b[0m\u001b[0m\n\u001b[0;32m     22\u001b[0m     \u001b[0mprint\u001b[0m\u001b[1;33m(\u001b[0m\u001b[1;34m''\u001b[0m\u001b[1;33m)\u001b[0m\u001b[1;33m\u001b[0m\u001b[1;33m\u001b[0m\u001b[0m\n",
      "\u001b[1;31mNameError\u001b[0m: name 'p' is not defined"
     ]
    }
   ],
   "source": [
    "# for k,v in S._asdict().items():\n",
    "#     print(f'{k}: {v}')\n",
    "\n",
    "# Test manual tukey\n",
    "T = manual_tukey(anovas['AFP_1'])\n",
    "rows = np.shape(T.p)[0]\n",
    "cols = np.shape(T.p)[1]\n",
    "samp_names = samples['AFP_1'].to_numpy()\n",
    "lengths = [len(s) for s in samp_names]\n",
    "max_len = np.max(lengths)\n",
    "\n",
    "print(f\"{'Samples':^{max_len}}\", end='')\n",
    "[print(f'| {samp_names[i]} ', end='') for i in range(cols)]\n",
    "print('')\n",
    "\n",
    "for i in range(rows):\n",
    "    print(f'{samp_names[i]:>{max_len}}', end='')\n",
    "    \n",
    "    for j in range(cols):\n",
    "        print(f'| {p[i][j]:>{lengths[j]}n} ', end='')\n",
    "        \n",
    "    print('')\n",
    "    \n",
    "print(np.shape(T.p))\n",
    "print(T.psig)"
   ]
  }
 ],
 "metadata": {
  "hide_input": false,
  "kernelspec": {
   "display_name": "Python 3",
   "language": "python",
   "name": "python3"
  },
  "language_info": {
   "codemirror_mode": {
    "name": "ipython",
    "version": 3
   },
   "file_extension": ".py",
   "mimetype": "text/x-python",
   "name": "python",
   "nbconvert_exporter": "python",
   "pygments_lexer": "ipython3",
   "version": "3.7.3"
  },
  "toc": {
   "base_numbering": 1,
   "nav_menu": {},
   "number_sections": true,
   "sideBar": true,
   "skip_h1_title": false,
   "title_cell": "Table of Contents",
   "title_sidebar": "Contents",
   "toc_cell": false,
   "toc_position": {},
   "toc_section_display": true,
   "toc_window_display": false
  },
  "varInspector": {
   "cols": {
    "lenName": 16,
    "lenType": 16,
    "lenVar": 40
   },
   "kernels_config": {
    "python": {
     "delete_cmd_postfix": "",
     "delete_cmd_prefix": "del ",
     "library": "var_list.py",
     "varRefreshCmd": "print(var_dic_list())"
    },
    "r": {
     "delete_cmd_postfix": ") ",
     "delete_cmd_prefix": "rm(",
     "library": "var_list.r",
     "varRefreshCmd": "cat(var_dic_list()) "
    }
   },
   "types_to_exclude": [
    "module",
    "function",
    "builtin_function_or_method",
    "instance",
    "_Feature"
   ],
   "window_display": false
  }
 },
 "nbformat": 4,
 "nbformat_minor": 2
}
