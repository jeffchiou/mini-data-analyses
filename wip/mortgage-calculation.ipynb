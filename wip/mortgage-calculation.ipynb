{
 "cells": [
  {
   "cell_type": "code",
   "execution_count": 1,
   "metadata": {},
   "outputs": [],
   "source": [
    "import numpy as np\n",
    "import pandas as pd\n",
    "import matplotlib.pyplot as plt"
   ]
  },
  {
   "cell_type": "markdown",
   "metadata": {},
   "source": [
    "### Basic mortgage calculator"
   ]
  },
  {
   "cell_type": "markdown",
   "metadata": {},
   "source": [
    "#### Formula\n",
    "(((loan_amount*(1+monthly_interest)-monthly_payment)*(1+monthly_interest)-monthly_payment)...) = 0\n",
    "Solve for monthly_payment\n",
    "\n",
    "L = loan amount\n",
    "i = monthly interest\n",
    "n = number of months\n",
    "P = monthly payment\n",
    "#### If n=1:\n",
    "$$L(1+i)-P = 0$$\n",
    "$$P = L(1+i)$$\n",
    "$$\\frac{P}{1+i} = L$$\n",
    "#### If n=2:\n",
    "$$(L(1+i)-P)(1+i)-P=0$$\n",
    "$$\\frac{P}{1+i} = L(1+i)-P$$\n",
    "$$\\frac{P}{1+i}+\\frac{P}{(1+i)^2} = L$$\n",
    "#### So, for a generalized n:\n",
    "$$ L = P\\left(\\frac{1}{1+i} + \\frac{1}{(1+i)^2} + ... + \\frac{1}{(1+i)^n}\\right) $$\n",
    "#### Geometric series of the part in parentheses: \n",
    "$$ S = \\sum^{n}_{j=1}\\frac{1}{(1+i)^j} $$\n",
    "$$ r = \\frac{1}{1+i} $$\n",
    "$$ S = r^1 + r^2 + r^3 + ... + r^n $$\n",
    "$$ rS = r^2 + r^3 + ... + r^n + r^{n+1} $$\n",
    "$$ S - rS = r^1 - r^{n+1} $$\n",
    "$$ S(1-r) = r - r^{n+1} $$\n",
    "$$ S = \\frac{r - r^{n+1}}{1-r} $$\n",
    "#### Thus for our loan: \n",
    "$$ L = P\\left(\\frac{r-r^{n+1}}{1-r}\\right) $$\n",
    "$$ P = L\\left(\\frac{1-r}{r-r^{n+1}}\\right) $$\n",
    "Remember that $ r = \\frac{1}{1+i} $"
   ]
  },
  {
   "cell_type": "code",
   "execution_count": 11,
   "metadata": {},
   "outputs": [
    {
     "name": "stdout",
     "output_type": "stream",
     "text": [
      "Monthly Interest Rate = 0.5%\n"
     ]
    }
   ],
   "source": [
    "# Basic variables for a fixed-rate loan\n",
    "# 200k loan, 30 yr FRM, 6% interest\n",
    "loan_amount = 200000\n",
    "annual_interest = 0.06\n",
    "loan_years = 30\n",
    "loan_months = loan_years*12\n",
    "monthly_interest = annual_interest/12\n",
    "print('Monthly Interest Rate = ' + str(monthly_interest*100) + '%')"
   ]
  },
  {
   "cell_type": "code",
   "execution_count": 15,
   "metadata": {},
   "outputs": [
    {
     "name": "stdout",
     "output_type": "stream",
     "text": [
      "0.9950248756218907\n",
      "1199.1010503054838\n"
     ]
    }
   ],
   "source": [
    "# Calculate using equation found earlier\n",
    "r = (1/(1+monthly_interest))\n",
    "print(r)\n",
    "monthly_payment = loan_amount*((1-r)/(r-r**(loan_months+1)))\n",
    "print(monthly_payment)"
   ]
  },
  {
   "cell_type": "markdown",
   "metadata": {},
   "source": [
    "### Medical Resident Loans\n",
    "* No money down required and no PMI\n",
    "* Check closing costs\n",
    "\n",
    "#### Comparing 3 Doctor 5/1 ARMs\n",
    "\n",
    "**Stockyards**\n",
    "\n",
    "61 month ARM rate of 3.99% APR 5.037 \n",
    "\n",
    "**National Bank Indianapolis `<` $149,999.00**\n",
    "\n",
    "5/1 ARM (2-5 Caps)                         5.000%\n",
    "\n",
    "**National Bank Indianapolis `>` $150,000.00**\n",
    "\n",
    "5/1 ARM (2-5 Caps)                         4.625%"
   ]
  },
  {
   "cell_type": "markdown",
   "metadata": {},
   "source": []
  }
 ],
 "metadata": {
  "hide_input": false,
  "kernelspec": {
   "display_name": "Python 3",
   "language": "python",
   "name": "python3"
  },
  "language_info": {
   "codemirror_mode": {
    "name": "ipython",
    "version": 3
   },
   "file_extension": ".py",
   "mimetype": "text/x-python",
   "name": "python",
   "nbconvert_exporter": "python",
   "pygments_lexer": "ipython3",
   "version": "3.7.3"
  },
  "toc": {
   "base_numbering": 1,
   "nav_menu": {},
   "number_sections": true,
   "sideBar": true,
   "skip_h1_title": false,
   "title_cell": "Table of Contents",
   "title_sidebar": "Contents",
   "toc_cell": false,
   "toc_position": {},
   "toc_section_display": true,
   "toc_window_display": false
  },
  "varInspector": {
   "cols": {
    "lenName": 16,
    "lenType": 16,
    "lenVar": 40
   },
   "kernels_config": {
    "python": {
     "delete_cmd_postfix": "",
     "delete_cmd_prefix": "del ",
     "library": "var_list.py",
     "varRefreshCmd": "print(var_dic_list())"
    },
    "r": {
     "delete_cmd_postfix": ") ",
     "delete_cmd_prefix": "rm(",
     "library": "var_list.r",
     "varRefreshCmd": "cat(var_dic_list()) "
    }
   },
   "types_to_exclude": [
    "module",
    "function",
    "builtin_function_or_method",
    "instance",
    "_Feature"
   ],
   "window_display": false
  }
 },
 "nbformat": 4,
 "nbformat_minor": 2
}
